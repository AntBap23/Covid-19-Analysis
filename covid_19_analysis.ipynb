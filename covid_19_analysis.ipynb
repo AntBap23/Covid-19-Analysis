{
  "nbformat": 4,
  "nbformat_minor": 0,
  "metadata": {
    "colab": {
      "provenance": [],
      "authorship_tag": "ABX9TyM37nlXmp7K21PPsyPmX6Dl"
    },
    "kernelspec": {
      "name": "python3",
      "display_name": "Python 3"
    },
    "language_info": {
      "name": "python"
    }
  },
  "cells": [
    {
      "cell_type": "code",
      "execution_count": null,
      "metadata": {
        "id": "A8Bc7MMa2HP3"
      },
      "outputs": [],
      "source": [
        "print(\"hello world\")"
      ]
    }
  ]
}